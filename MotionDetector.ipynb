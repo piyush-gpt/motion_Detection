{
 "cells": [
  {
   "cell_type": "code",
   "execution_count": 5,
   "id": "28cf3310-361b-4e74-85a4-e75005639cde",
   "metadata": {},
   "outputs": [
    {
     "name": "stdout",
     "output_type": "stream",
     "text": [
      "Collecting imutils\n",
      "  Using cached imutils-0.5.4-py3-none-any.whl\n",
      "Installing collected packages: imutils\n",
      "Successfully installed imutils-0.5.4\n"
     ]
    },
    {
     "name": "stderr",
     "output_type": "stream",
     "text": [
      "ERROR: Could not find a version that satisfies the requirement winsound (from versions: none)\n",
      "ERROR: No matching distribution found for winsound\n"
     ]
    }
   ],
   "source": [
    "!pip install imutils\n",
    "!pip install winsound"
   ]
  },
  {
   "cell_type": "code",
   "execution_count": 7,
   "id": "891d418f-0795-4715-b033-99c5c9f8f661",
   "metadata": {},
   "outputs": [],
   "source": [
    "import cv2\n",
    "import imutils\n",
    "import winsound\n",
    "import threading"
   ]
  },
  {
   "cell_type": "code",
   "execution_count": 7,
   "id": "1fc45278-d3c8-4f8d-8f2a-01e949e4dc7c",
   "metadata": {},
   "outputs": [],
   "source": [
    "import cv2\n",
    "import imutils\n",
    "import threading\n",
    "import winsound  \n",
    "import time\n",
    "\n",
    "cv2.namedWindow(\"window\", cv2.WINDOW_NORMAL)\n",
    "cv2.resizeWindow(\"window\", 640, 480)\n",
    "cap = cv2.VideoCapture(0)\n",
    "res, start_frame = cap.read()\n",
    "start_frame = imutils.resize(start_frame, width=500)\n",
    "start_frame = cv2.cvtColor(start_frame, cv2.COLOR_BGR2GRAY)\n",
    "start_frame = cv2.GaussianBlur(start_frame, (21, 21), 0)\n",
    "\n",
    "alarm = False\n",
    "alarm_mode = False\n",
    "alarm_counter = 0\n",
    "frame_count = 0  \n",
    "\n",
    "def beep_alarm():\n",
    "    global alarm\n",
    "    for i in range(5):  \n",
    "        if not alarm_mode:\n",
    "            break\n",
    "        print(\"ALARM!\")\n",
    "        winsound.Beep(2500, 1000)\n",
    "    alarm = False\n",
    "\n",
    "while True:\n",
    "    res, frame = cap.read()\n",
    "    frame = imutils.resize(frame, width=500)\n",
    "    if alarm_mode:\n",
    "        frame_bw = cv2.cvtColor(frame, cv2.COLOR_BGR2GRAY)\n",
    "        frame_bw = cv2.GaussianBlur(frame_bw, (21, 21), 0)\n",
    "        difference = cv2.absdiff(frame_bw, start_frame)\n",
    "        threshold = cv2.threshold(difference, 25, 255, cv2.THRESH_BINARY)[1]\n",
    "        frame_count += 1\n",
    "        if frame_count % 100 == 0:  \n",
    "            start_frame = frame_bw\n",
    "        if threshold.sum() > 300:  \n",
    "            alarm_counter += 1\n",
    "        else:\n",
    "            alarm_counter = max(0, alarm_counter - 1)  \n",
    "\n",
    "        cv2.imshow(\"window\", threshold)\n",
    "    else:\n",
    "        cv2.imshow(\"window\", frame)\n",
    "\n",
    "    if alarm_counter > 20 and not alarm:\n",
    "        alarm = True\n",
    "        threading.Thread(target=beep_alarm).start()\n",
    "\n",
    "    key = cv2.waitKey(1)\n",
    "    if key == ord(\"t\"):\n",
    "        alarm_mode = not alarm_mode\n",
    "        alarm_counter = 0\n",
    "    if key == ord(\"q\"):\n",
    "        alarm_mode = False\n",
    "        break\n",
    "    time.sleep(1/30)  \n",
    "\n",
    "cap.release()\n",
    "cv2.destroyAllWindows()\n"
   ]
  }
 ],
 "metadata": {
  "kernelspec": {
   "display_name": "Python 3 (ipykernel)",
   "language": "python",
   "name": "python3"
  },
  "language_info": {
   "codemirror_mode": {
    "name": "ipython",
    "version": 3
   },
   "file_extension": ".py",
   "mimetype": "text/x-python",
   "name": "python",
   "nbconvert_exporter": "python",
   "pygments_lexer": "ipython3",
   "version": "3.12.4"
  }
 },
 "nbformat": 4,
 "nbformat_minor": 5
}
